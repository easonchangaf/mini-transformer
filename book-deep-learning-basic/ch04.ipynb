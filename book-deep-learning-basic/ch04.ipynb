{
 "cells": [
  {
   "cell_type": "markdown",
   "id": "4bf1bdb8",
   "metadata": {},
   "source": [
    "# 神经网络的学习"
   ]
  },
  {
   "cell_type": "code",
   "execution_count": 1,
   "id": "a4ff47a3",
   "metadata": {},
   "outputs": [],
   "source": [
    "import os, sys\n",
    "import numpy as np\n",
    "sys.path.append(os.pardir)\n",
    "\n",
    "import common.functions as functions"
   ]
  },
  {
   "cell_type": "code",
   "execution_count": 2,
   "id": "028e9fe0",
   "metadata": {},
   "outputs": [
    {
     "data": {
      "text/plain": [
       "0.09750000000000003"
      ]
     },
     "execution_count": 2,
     "metadata": {},
     "output_type": "execute_result"
    }
   ],
   "source": [
    "t = [0, 0, 1, 0, 0, 0, 0, 0, 0, 0]\n",
    "y = [0.1, 0.05, 0.6, 0.0, 0.05, 0.1, 0.0, 0.1, 0.0, 0.0]\n",
    "functions.mean_squared_error(np.array(y), np.array(t))"
   ]
  },
  {
   "cell_type": "code",
   "execution_count": 3,
   "id": "9f501008",
   "metadata": {},
   "outputs": [
    {
     "data": {
      "text/plain": [
       "(0.510825457099338, 0.510825457099338, 23.718987110506905)"
      ]
     },
     "execution_count": 3,
     "metadata": {},
     "output_type": "execute_result"
    }
   ],
   "source": [
    "t = [0, 0, 1, 0, 0, 0, 0, 0, 0, 0]\n",
    "y = [0.1, 0.05, 0.6, 0.0, 0.05, 0.1, 0.0, 0.1, 0.0, 0.0]\n",
    "r1 = functions.cross_entropy_error(np.array(y), np.array(t))\n",
    "r2 = functions.cross_entropy_error_v2(np.array(y), np.array(t))\n",
    "r3 = functions.cross_entropy_error_v3(np.array(y), np.array(t))\n",
    "\n",
    "r1, r2, r3"
   ]
  },
  {
   "cell_type": "code",
   "execution_count": 4,
   "id": "b0672c92",
   "metadata": {},
   "outputs": [
    {
     "data": {
      "text/plain": [
       "((10,), (1, 10))"
      ]
     },
     "execution_count": 4,
     "metadata": {},
     "output_type": "execute_result"
    }
   ],
   "source": [
    "np_y = np.array(y)\n",
    "np_y.ndim\n",
    "np_y.shape\n",
    "new_y = np_y.reshape(1, np_y.size)\n",
    "np_y.shape, new_y.shape"
   ]
  },
  {
   "cell_type": "code",
   "execution_count": 5,
   "id": "98c718c6",
   "metadata": {},
   "outputs": [
    {
     "data": {
      "text/plain": [
       "((60000, 784), (60000,))"
      ]
     },
     "execution_count": 5,
     "metadata": {},
     "output_type": "execute_result"
    }
   ],
   "source": [
    "import sys, os\n",
    "sys.path.append(os.pardir)\n",
    "from dataset.mnist import load_mnist\n",
    "\n",
    "# 训练集，训练标签，测试集，测试标签\n",
    "(x_train, t_train), (x_test, t_test) = load_mnist(flatten=True, normalize=False)\n",
    "x_train.shape, t_train.shape"
   ]
  },
  {
   "cell_type": "code",
   "execution_count": 6,
   "id": "52b20c1f",
   "metadata": {},
   "outputs": [],
   "source": [
    "train_size = x_train.shape[0]\n",
    "batch_size = 10\n",
    "batch_mask = np.random.choice(train_size, batch_size)\n",
    "x_batch = x_train[batch_mask]\n",
    "t_batch = t_train[batch_mask]"
   ]
  },
  {
   "cell_type": "code",
   "execution_count": 7,
   "id": "d75b6c35",
   "metadata": {},
   "outputs": [
    {
     "data": {
      "text/plain": [
       "(4.000000000004, 0.0)"
      ]
     },
     "execution_count": 7,
     "metadata": {},
     "output_type": "execute_result"
    }
   ],
   "source": [
    "func = functions.squard\n",
    "\n",
    "# numerical_diff_pure 中误差项太小，引起了计算机计算精度的丢失，出来的结果是0，导致计算出错\n",
    "functions.numerical_diff(func, 2), functions.numerical_diff_pure(func, 2)"
   ]
  },
  {
   "cell_type": "code",
   "execution_count": 8,
   "id": "68b6a996",
   "metadata": {},
   "outputs": [
    {
     "data": {
      "text/plain": [
       "array([0., 4.])"
      ]
     },
     "execution_count": 8,
     "metadata": {},
     "output_type": "execute_result"
    }
   ],
   "source": [
    "functions.numerical_gradient(functions.function_2, np.array([0.0, 2.0]))"
   ]
  }
 ],
 "metadata": {
  "kernelspec": {
   "display_name": "py39",
   "language": "python",
   "name": "python3"
  },
  "language_info": {
   "codemirror_mode": {
    "name": "ipython",
    "version": 3
   },
   "file_extension": ".py",
   "mimetype": "text/x-python",
   "name": "python",
   "nbconvert_exporter": "python",
   "pygments_lexer": "ipython3",
   "version": "3.9.19"
  }
 },
 "nbformat": 4,
 "nbformat_minor": 5
}
