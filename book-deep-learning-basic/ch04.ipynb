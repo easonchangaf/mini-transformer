{
 "cells": [
  {
   "cell_type": "markdown",
   "id": "4bf1bdb8",
   "metadata": {},
   "source": [
    "# 神经网络的学习"
   ]
  },
  {
   "cell_type": "code",
   "execution_count": 1,
   "id": "a4ff47a3",
   "metadata": {},
   "outputs": [],
   "source": [
    "import os, sys\n",
    "import numpy as np\n",
    "sys.path.append(os.pardir)\n",
    "\n",
    "import common.functions as functions\n",
    "import common.gradient as gradient"
   ]
  },
  {
   "cell_type": "code",
   "execution_count": 2,
   "id": "028e9fe0",
   "metadata": {},
   "outputs": [
    {
     "data": {
      "text/plain": [
       "0.09750000000000003"
      ]
     },
     "execution_count": 2,
     "metadata": {},
     "output_type": "execute_result"
    }
   ],
   "source": [
    "t = [0, 0, 1, 0, 0, 0, 0, 0, 0, 0]\n",
    "y = [0.1, 0.05, 0.6, 0.0, 0.05, 0.1, 0.0, 0.1, 0.0, 0.0]\n",
    "functions.mean_squared_error(np.array(y), np.array(t))"
   ]
  },
  {
   "cell_type": "code",
   "execution_count": 3,
   "id": "9f501008",
   "metadata": {},
   "outputs": [
    {
     "data": {
      "text/plain": [
       "(0.510825457099338, 0.510825457099338, 23.718987110506905)"
      ]
     },
     "execution_count": 3,
     "metadata": {},
     "output_type": "execute_result"
    }
   ],
   "source": [
    "t = [0, 0, 1, 0, 0, 0, 0, 0, 0, 0]\n",
    "y = [0.1, 0.05, 0.6, 0.0, 0.05, 0.1, 0.0, 0.1, 0.0, 0.0]\n",
    "r1 = functions.cross_entropy_error(np.array(y), np.array(t))\n",
    "r2 = functions.cross_entropy_error_v2(np.array(y), np.array(t))\n",
    "r3 = functions.cross_entropy_error_v3(np.array(y), np.array(t))\n",
    "\n",
    "r1, r2, r3"
   ]
  },
  {
   "cell_type": "code",
   "execution_count": 4,
   "id": "b0672c92",
   "metadata": {},
   "outputs": [
    {
     "data": {
      "text/plain": [
       "((10,), (1, 10))"
      ]
     },
     "execution_count": 4,
     "metadata": {},
     "output_type": "execute_result"
    }
   ],
   "source": [
    "np_y = np.array(y)\n",
    "np_y.ndim\n",
    "np_y.shape\n",
    "new_y = np_y.reshape(1, np_y.size)\n",
    "np_y.shape, new_y.shape"
   ]
  },
  {
   "cell_type": "code",
   "execution_count": 5,
   "id": "98c718c6",
   "metadata": {},
   "outputs": [
    {
     "data": {
      "text/plain": [
       "((60000, 784), (60000,))"
      ]
     },
     "execution_count": 5,
     "metadata": {},
     "output_type": "execute_result"
    }
   ],
   "source": [
    "import sys, os\n",
    "sys.path.append(os.pardir)\n",
    "from dataset.mnist import load_mnist\n",
    "\n",
    "# 训练集，训练标签，测试集，测试标签\n",
    "(x_train, t_train), (x_test, t_test) = load_mnist(flatten=True, normalize=False)\n",
    "x_train.shape, t_train.shape"
   ]
  },
  {
   "cell_type": "code",
   "execution_count": 6,
   "id": "52b20c1f",
   "metadata": {},
   "outputs": [],
   "source": [
    "train_size = x_train.shape[0]\n",
    "batch_size = 10\n",
    "batch_mask = np.random.choice(train_size, batch_size)\n",
    "x_batch = x_train[batch_mask]\n",
    "t_batch = t_train[batch_mask]"
   ]
  },
  {
   "cell_type": "code",
   "execution_count": 7,
   "id": "d75b6c35",
   "metadata": {},
   "outputs": [
    {
     "data": {
      "text/plain": [
       "(4.000000000004, 0.0)"
      ]
     },
     "execution_count": 7,
     "metadata": {},
     "output_type": "execute_result"
    }
   ],
   "source": [
    "func = functions.squard\n",
    "\n",
    "# numerical_diff_pure 中误差项太小，引起了计算机计算精度的丢失，出来的结果是0，导致计算出错\n",
    "functions.numerical_diff(func, 2), functions.numerical_diff_pure(func, 2)"
   ]
  },
  {
   "cell_type": "code",
   "execution_count": 8,
   "id": "68b6a996",
   "metadata": {},
   "outputs": [
    {
     "data": {
      "text/plain": [
       "array([0., 4.])"
      ]
     },
     "execution_count": 8,
     "metadata": {},
     "output_type": "execute_result"
    }
   ],
   "source": [
    "gradient.numerical_gradient(functions.function_2, np.array([0.0, 2.0]))"
   ]
  },
  {
   "cell_type": "code",
   "execution_count": 9,
   "id": "5f69cb63",
   "metadata": {},
   "outputs": [],
   "source": [
    "# 两层神经网络\n",
    "import sys, os\n",
    "sys.path.append(os.pardir)\n",
    "from common.functions import *\n",
    "from common.gradient import numerical_gradient\n",
    "\n",
    "class TwoLayerNet:\n",
    "    def __init__(self, input_size, hidden_size, output_size, weight_init_std = 0.01):\n",
    "        self.params={}\n",
    "        self.grad={}\n",
    "        self.params['W1'] = weight_init_std * np.random.randn(input_size, hidden_size)\n",
    "        self.params['b1'] = np.zeros(hidden_size)\n",
    "\n",
    "        self.params['W2'] = weight_init_std * np.random.randn(hidden_size, output_size)\n",
    "        self.params['b2'] = np.zeros(output_size)\n",
    "\n",
    "\n",
    "    def predict(self, x: \"numpy.ndarray\")->\"numpy.ndarray\":\n",
    "        params = self.params\n",
    "        W1, W2 = params['W1'], params['W2']\n",
    "        b1, b2 = params['b1'], params['b2']\n",
    "\n",
    "\n",
    "        r1 = functions.sigmoid(np.dot(x, W1) + b1)\n",
    "        r2 = functions.softmax(np.dot(r1, W2) + b2)\n",
    "\n",
    "        result = r2\n",
    "        return result\n",
    "\n",
    "\n",
    "    def loss(self,x: \"numpy.ndarray\", t: \"numpy.ndarray\"):\n",
    "        y_h = self.predict(x) # 预测值\n",
    "        loss = functions.cross_entropy_error(y_h, t)\n",
    "        return loss\n",
    "\n",
    "\n",
    "    def accuracy(self, x, t):\n",
    "        y = self.predict(x)\n",
    "        # axis = 1, 求的是每一行的最大值\n",
    "        y = np.argmax(y, axis=1)\n",
    "        t = np.argmax(t, axis=1)\n",
    "\n",
    "        accuracy = np.sum(y == t) / float(x.shape[0])\n",
    "        return accuracy\n",
    "\n",
    "\n",
    "    def numerical_gradient(self,x, t):\n",
    "        loss_func = lambda W: self.loss(x, t)\n",
    "\n",
    "        W1, W2, b1, b2 = self.params['W1'], self.params['W2'], self.params['b1'], self.params['b2']\n",
    "        self.grad['W1'] = gradient.numerical_gradient(loss_func, W1)\n",
    "        self.grad['W2'] = gradient.numerical_gradient(loss_func, W2)\n",
    "        self.grad['b1'] = gradient.numerical_gradient(loss_func, b1)\n",
    "        self.grad['b2'] = gradient.numerical_gradient(loss_func, b2)\n",
    "\n",
    "\n",
    "        return self.grad\n",
    "        "
   ]
  },
  {
   "cell_type": "code",
   "execution_count": null,
   "id": "272b69e4",
   "metadata": {},
   "outputs": [
    {
     "name": "stdout",
     "output_type": "stream",
     "text": [
      "(60000, 784) (60000, 10) (10000, 784) (10000, 10)\n",
      "====iter 0 start=====\n",
      "loss: 5219.376436541698\n"
     ]
    }
   ],
   "source": [
    "# 使用mini-batch训练神经网络\n",
    "\n",
    "import numpy as np\n",
    "from dataset.mnist import load_mnist\n",
    "# from two_layer_net import TwoLayerNet\n",
    "\n",
    "(x_train, t_train), (x_test, t_test) = load_mnist(normalize=True, one_hot_label = True)\n",
    "train_loss_list = []\n",
    "# mnist 是 28 * 28的图片，flatten压平后就是 784维度\n",
    "network = TwoLayerNet(input_size=784, hidden_size=50, output_size=10)\n",
    "\n",
    "print(x_train.shape, t_train.shape, x_test.shape, t_test.shape)\n",
    "\n",
    "iters_num = 100\n",
    "data_count = x_train.shape[0]\n",
    "select_num = data_count / iters_num\n",
    "\n",
    "\n",
    "\n",
    "learn_rate = 0.05\n",
    "\n",
    "for i in range(iters_num):\n",
    "    print(f\"====iter {i} start=====\")\n",
    "    \n",
    "    params = network.params\n",
    "    batch_mask = np.random.choice(data_count, int(select_num))\n",
    "\n",
    "    batch_x_train = x_train[batch_mask]\n",
    "    batch_t_train = t_train[batch_mask]\n",
    "\n",
    "    loss = network.loss(batch_x_train, batch_t_train)\n",
    "    print(f\"loss: {loss}\")\n",
    "    train_loss_list.append(loss)\n",
    "\n",
    "    grad = network.numerical_gradient(batch_x_train, batch_t_train)\n",
    "\n",
    "    # 梯度\n",
    "    W1_g, W2_g, b1_g, b2_g = grad['W1'], grad['W2'], grad['b1'], grad['b2']\n",
    "    # 老的参数\n",
    "    W1, W2, b1, b2 = params['W1'], params['W2'], params['b1'], params['b2']\n",
    "    # 以梯度为指南针，更新参数。\n",
    "    # 目的是让loss减小，参数只能沿着梯度的反方向变化\n",
    "    W1_n = W1 - learn_rate * W1_g\n",
    "    W2_n = W2 - learn_rate * W2_g\n",
    "    b1_n = b1 - learn_rate * b1_g\n",
    "    b2_n = b2 - learn_rate * b2_g\n",
    "    params['W1'] = W1_n\n",
    "    params['W2'] = W2_n\n",
    "    params['b1'] = b1_n\n",
    "    params['b2'] = b2_n\n",
    "    network.params = params\n",
    "    print(f\"iter count {i} end\")"
   ]
  },
  {
   "cell_type": "code",
   "execution_count": null,
   "id": "b995d9a0",
   "metadata": {},
   "outputs": [],
   "source": [
    "# 评价模型\n",
    "trained_network = network\n",
    "\n",
    "test_acc = trained_network.accuracy(x_train, t_train)\n",
    "test_loss = trained_network.loss(x_train, t_train)\n",
    "\n",
    "test_acc, test_loss"
   ]
  },
  {
   "cell_type": "code",
   "execution_count": null,
   "id": "7bdd55d8",
   "metadata": {},
   "outputs": [],
   "source": [
    "np.random.choice(100, 2)"
   ]
  }
 ],
 "metadata": {
  "kernelspec": {
   "display_name": "py39",
   "language": "python",
   "name": "python3"
  },
  "language_info": {
   "codemirror_mode": {
    "name": "ipython",
    "version": 3
   },
   "file_extension": ".py",
   "mimetype": "text/x-python",
   "name": "python",
   "nbconvert_exporter": "python",
   "pygments_lexer": "ipython3",
   "version": "3.9.19"
  }
 },
 "nbformat": 4,
 "nbformat_minor": 5
}
