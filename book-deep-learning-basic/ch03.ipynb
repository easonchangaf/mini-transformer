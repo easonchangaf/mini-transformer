{
 "cells": [
  {
   "cell_type": "code",
   "execution_count": 1,
   "id": "aa8ce3d4",
   "metadata": {},
   "outputs": [],
   "source": [
    "import numpy as np"
   ]
  },
  {
   "cell_type": "code",
   "execution_count": 14,
   "id": "3e66ca3d",
   "metadata": {},
   "outputs": [
    {
     "name": "stdout",
     "output_type": "stream",
     "text": [
      "0.9999546021312976 0.6224593312018546 0.549833997312478\n",
      "=== l1 ===\n",
      "softmax pure:  [0.01821127 0.24519181 0.73659691]\n",
      "softmax [0.01821127 0.24519181 0.73659691]\n",
      "=== l2 ===\n",
      "softmax pure:  [nan  0.  0.]\n",
      "softmax [1. 0. 0.]\n"
     ]
    },
    {
     "name": "stderr",
     "output_type": "stream",
     "text": [
      "/var/folders/nl/4jwq1tp50x56pw2gms9_1rm80000gq/T/ipykernel_96642/386124969.py:11: RuntimeWarning: overflow encountered in exp\n",
      "  exp_a = np.exp(x)\n",
      "/var/folders/nl/4jwq1tp50x56pw2gms9_1rm80000gq/T/ipykernel_96642/386124969.py:13: RuntimeWarning: invalid value encountered in divide\n",
      "  y = exp_a / sum_exp_a\n"
     ]
    }
   ],
   "source": [
    "from typing import Collection\n",
    "\n",
    "def sigmoid(x: float)->float:\n",
    "    return 1 / (1 + np.exp(-x))\n",
    "\n",
    "\n",
    "def softmax_pure(x: Collection) -> Collection:\n",
    "    '''\n",
    "    纯正的softmax函数可能出现数值溢出的问题，如e的10次方，会超出数值上限\n",
    "    '''\n",
    "    exp_a = np.exp(x)\n",
    "    sum_exp_a = np.sum(exp_a)\n",
    "    y = exp_a / sum_exp_a\n",
    "    return y\n",
    "\n",
    "\n",
    "def softmax(x: Collection)->Collection:\n",
    "    '''进行恒等变形，消除数值溢出问题'''\n",
    "    max_a = np.max(x)\n",
    "    exp_a = np.exp(x - max_a)\n",
    "    sum_exp_a = np.sum(exp_a)\n",
    "    y = exp_a / sum_exp_a\n",
    "    return y\n",
    "\n",
    "\n",
    "\n",
    "\n",
    "print(sigmoid(10), sigmoid(0.5), sigmoid(0.2))\n",
    "l1 = [0.3, 2.9, 4.0]\n",
    "print(\"=== l1 ===\")\n",
    "print(\"softmax pure: \", softmax_pure(l1))\n",
    "print(\"softmax\", softmax(l1))\n",
    "\n",
    "l2 = [100000, 20, 30]\n",
    "print(\"=== l2 ===\")\n",
    "print(\"softmax pure: \", softmax_pure(l2))\n",
    "print(\"softmax\", softmax(l2))"
   ]
  },
  {
   "cell_type": "code",
   "execution_count": 3,
   "id": "685926e4",
   "metadata": {},
   "outputs": [],
   "source": [
    "def init_network():\n",
    "    network = {}\n",
    "    # input 1x2\n",
    "    # W1: 2 x 3\n",
    "    network['W1'] = np.array([\n",
    "        [0.1, 0.3, 0.5],\n",
    "        [0.2, 0.4, 0.6]\n",
    "    ])\n",
    "    # b1 1x3\n",
    "    network['b1'] = np.array([0.1, 0.2, 0.3])\n",
    "    # W2: 3x2\n",
    "    network['W2'] = np.array([\n",
    "        [0.1, 0.2],\n",
    "        [0.3, 0.4],\n",
    "        [0.5, 0.6]\n",
    "    ])\n",
    "    # b2: 1x2\n",
    "    network['b2'] = np.array([0.1, 0.3])\n",
    "    # W3: 2x2\n",
    "    network['W3'] = np.array([\n",
    "        [0.1, 0.2],\n",
    "        [0.3,0.4]\n",
    "    ])\n",
    "    # b3: 1x2\n",
    "    network['b3'] = np.array([0.1, 0.3])    \n",
    "    return network"
   ]
  },
  {
   "cell_type": "code",
   "execution_count": 5,
   "id": "b9b095b0",
   "metadata": {},
   "outputs": [
    {
     "name": "stdout",
     "output_type": "stream",
     "text": [
      "z1 shape:  (3,)\n",
      "z2 shape:  (2,)\n",
      "z3 shape:  (2,)\n",
      "res:  [0.59510458 0.67342385]\n"
     ]
    }
   ],
   "source": [
    "def forward(network, x):\n",
    "    W1, W2, W3 = network['W1'], network['W2'], network['W3']\n",
    "    b1, b2, b3 = network['b1'], network['b2'], network['b3']\n",
    "\n",
    "    a1 = np.dot(x, W1) + b1\n",
    "    # 激活函数\n",
    "    z1 = sigmoid(a1)\n",
    "\n",
    "    print(\"z1 shape: \", z1.shape)\n",
    "    a2 = np.dot(z1, W2) + b2\n",
    "    z2 = sigmoid(a2)\n",
    "\n",
    "    print(\"z2 shape: \", z2.shape)\n",
    "\n",
    "    a3 = np.dot(z2, W3) + b3\n",
    "    z3 = sigmoid(a3)\n",
    "    print(\"z3 shape: \", z3.shape)\n",
    "\n",
    "    return z3\n",
    "\n",
    "\n",
    "network = init_network()\n",
    "\n",
    "res = forward(network=network, x= [0.1, 0.2])\n",
    "print(\"res: \", res)"
   ]
  },
  {
   "cell_type": "markdown",
   "id": "301c8bec",
   "metadata": {},
   "source": [
    "# Minist"
   ]
  },
  {
   "cell_type": "code",
   "execution_count": null,
   "id": "d1a5cb6f",
   "metadata": {},
   "outputs": [
    {
     "name": "stdout",
     "output_type": "stream",
     "text": [
      "(60000, 784)\n",
      "(60000,)\n",
      "(10000, 784)\n",
      "(10000,)\n"
     ]
    }
   ],
   "source": [
    "import sys, os\n",
    "sys.path.append(os.pardir)\n",
    "from dataset.mnist import load_mnist\n",
    "\n",
    "# 训练集，训练标签，测试集，测试标签\n",
    "(x_train, t_train), (x_test, t_test) = load_mnist(flatten=True, normalize=False)\n",
    "\n",
    "print(x_train.shape)\n",
    "print(t_train.shape)\n",
    "print(x_test.shape)\n",
    "print(t_test.shape)"
   ]
  },
  {
   "cell_type": "code",
   "execution_count": 20,
   "id": "548ab2c4",
   "metadata": {},
   "outputs": [
    {
     "name": "stdout",
     "output_type": "stream",
     "text": [
      "5\n",
      "(784,)\n",
      "(28, 28)\n"
     ]
    }
   ],
   "source": [
    "# show image\n",
    "# coding: utf-8\n",
    "import sys, os\n",
    "sys.path.append(os.pardir)  # 为了导入父目录的文件而进行的设定\n",
    "import numpy as np\n",
    "from dataset.mnist import load_mnist\n",
    "from PIL import Image\n",
    "\n",
    "\n",
    "def img_show(img):\n",
    "    pil_img = Image.fromarray(np.uint8(img))\n",
    "    pil_img.show()\n",
    "\n",
    "(x_train, t_train), (x_test, t_test) = load_mnist(flatten=True, normalize=False)\n",
    "\n",
    "img = x_train[0]\n",
    "label = t_train[0]\n",
    "print(label)  # 5\n",
    "\n",
    "print(img.shape)  # (784,)\n",
    "img = img.reshape(28, 28)  # 把图像的形状变为原来的尺寸\n",
    "print(img.shape)  # (28, 28)\n",
    "\n",
    "img_show(img)\n"
   ]
  }
 ],
 "metadata": {
  "kernelspec": {
   "display_name": "py39",
   "language": "python",
   "name": "python3"
  },
  "language_info": {
   "codemirror_mode": {
    "name": "ipython",
    "version": 3
   },
   "file_extension": ".py",
   "mimetype": "text/x-python",
   "name": "python",
   "nbconvert_exporter": "python",
   "pygments_lexer": "ipython3",
   "version": "3.9.19"
  }
 },
 "nbformat": 4,
 "nbformat_minor": 5
}
